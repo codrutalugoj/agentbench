{
 "cells": [
  {
   "cell_type": "markdown",
   "metadata": {},
   "source": [
    "# OS Task Replication with GPT4\n",
    "In this notebook I aim to replicate the results from the AgentBench paper\n"
   ]
  },
  {
   "cell_type": "markdown",
   "metadata": {},
   "source": [
    "### 1. Setup\n",
    "Note: this assumes Docker is installed locally. "
   ]
  },
  {
   "cell_type": "code",
   "execution_count": 2,
   "metadata": {},
   "outputs": [
    {
     "name": "stdout",
     "output_type": "stream",
     "text": [
      "CONTAINER ID   IMAGE     COMMAND   CREATED   STATUS    PORTS     NAMES\n"
     ]
    }
   ],
   "source": [
    "# check if docker is installed\n",
    "!docker ps"
   ]
  },
  {
   "cell_type": "code",
   "execution_count": 7,
   "metadata": {},
   "outputs": [
    {
     "name": "stdout",
     "output_type": "stream",
     "text": [
      "Requirement already satisfied: numpy~=1.23.5 in /home/coco/anaconda3/lib/python3.9/site-packages (from -r requirements.txt (line 1)) (1.23.5)\n",
      "Requirement already satisfied: pydantic~=1.10.12 in /home/coco/anaconda3/lib/python3.9/site-packages (from -r requirements.txt (line 2)) (1.10.15)\n",
      "Requirement already satisfied: requests~=2.28.1 in /home/coco/anaconda3/lib/python3.9/site-packages (from -r requirements.txt (line 3)) (2.28.1)\n",
      "Requirement already satisfied: tqdm~=4.65.0 in /home/coco/anaconda3/lib/python3.9/site-packages (from -r requirements.txt (line 4)) (4.65.2)\n",
      "Requirement already satisfied: pyyaml~=6.0 in /home/coco/anaconda3/lib/python3.9/site-packages (from -r requirements.txt (line 5)) (6.0)\n",
      "Requirement already satisfied: jsonlines~=3.1.0 in /home/coco/anaconda3/lib/python3.9/site-packages (from -r requirements.txt (line 6)) (3.1.0)\n",
      "Requirement already satisfied: aiohttp~=3.8.4 in /home/coco/anaconda3/lib/python3.9/site-packages (from -r requirements.txt (line 7)) (3.8.6)\n",
      "Requirement already satisfied: uvicorn~=0.22.0 in /home/coco/anaconda3/lib/python3.9/site-packages (from -r requirements.txt (line 8)) (0.22.0)\n",
      "Requirement already satisfied: fastapi~=0.101.1 in /home/coco/anaconda3/lib/python3.9/site-packages (from -r requirements.txt (line 9)) (0.101.1)\n",
      "Requirement already satisfied: urllib3~=1.26.15 in /home/coco/anaconda3/lib/python3.9/site-packages (from -r requirements.txt (line 10)) (1.26.18)\n",
      "Requirement already satisfied: mysql-connector-python==8.0.33 in /home/coco/anaconda3/lib/python3.9/site-packages (from -r requirements.txt (line 11)) (8.0.33)\n",
      "Requirement already satisfied: docker==6.1.2 in /home/coco/anaconda3/lib/python3.9/site-packages (from -r requirements.txt (line 12)) (6.1.2)\n",
      "Requirement already satisfied: SPARQLWrapper in /home/coco/anaconda3/lib/python3.9/site-packages (from -r requirements.txt (line 13)) (2.0.0)\n",
      "Requirement already satisfied: networkx~=2.8.4 in /home/coco/anaconda3/lib/python3.9/site-packages (from -r requirements.txt (line 14)) (2.8.4)\n",
      "Requirement already satisfied: anthropic~=0.4.1 in /home/coco/anaconda3/lib/python3.9/site-packages (from -r requirements.txt (line 15)) (0.4.1)\n",
      "Requirement already satisfied: fschat~=0.2.31 in /home/coco/anaconda3/lib/python3.9/site-packages (from -r requirements.txt (line 16)) (0.2.36)\n",
      "Requirement already satisfied: accelerate~=0.23.0 in /home/coco/anaconda3/lib/python3.9/site-packages (from -r requirements.txt (line 17)) (0.23.0)\n",
      "Requirement already satisfied: transformers~=4.34.0 in /home/coco/anaconda3/lib/python3.9/site-packages (from -r requirements.txt (line 18)) (4.34.0)\n",
      "Requirement already satisfied: protobuf<=3.20.3,>=3.11.0 in /home/coco/anaconda3/lib/python3.9/site-packages (from mysql-connector-python==8.0.33->-r requirements.txt (line 11)) (3.20.3)\n",
      "Requirement already satisfied: websocket-client>=0.32.0 in /home/coco/anaconda3/lib/python3.9/site-packages (from docker==6.1.2->-r requirements.txt (line 12)) (0.58.0)\n",
      "Requirement already satisfied: packaging>=14.0 in /home/coco/anaconda3/lib/python3.9/site-packages (from docker==6.1.2->-r requirements.txt (line 12)) (21.3)\n",
      "Requirement already satisfied: typing-extensions>=4.2.0 in /home/coco/anaconda3/lib/python3.9/site-packages (from pydantic~=1.10.12->-r requirements.txt (line 2)) (4.12.0)\n",
      "Requirement already satisfied: certifi>=2017.4.17 in /home/coco/anaconda3/lib/python3.9/site-packages (from requests~=2.28.1->-r requirements.txt (line 3)) (2022.9.14)\n",
      "Requirement already satisfied: idna<4,>=2.5 in /home/coco/anaconda3/lib/python3.9/site-packages (from requests~=2.28.1->-r requirements.txt (line 3)) (3.3)\n",
      "Requirement already satisfied: charset-normalizer<3,>=2 in /home/coco/anaconda3/lib/python3.9/site-packages (from requests~=2.28.1->-r requirements.txt (line 3)) (2.0.4)\n",
      "Requirement already satisfied: attrs>=19.2.0 in /home/coco/anaconda3/lib/python3.9/site-packages (from jsonlines~=3.1.0->-r requirements.txt (line 6)) (21.4.0)\n",
      "Requirement already satisfied: yarl<2.0,>=1.0 in /home/coco/anaconda3/lib/python3.9/site-packages (from aiohttp~=3.8.4->-r requirements.txt (line 7)) (1.9.2)\n",
      "Requirement already satisfied: multidict<7.0,>=4.5 in /home/coco/anaconda3/lib/python3.9/site-packages (from aiohttp~=3.8.4->-r requirements.txt (line 7)) (6.0.4)\n",
      "Requirement already satisfied: aiosignal>=1.1.2 in /home/coco/anaconda3/lib/python3.9/site-packages (from aiohttp~=3.8.4->-r requirements.txt (line 7)) (1.3.1)\n",
      "Requirement already satisfied: frozenlist>=1.1.1 in /home/coco/anaconda3/lib/python3.9/site-packages (from aiohttp~=3.8.4->-r requirements.txt (line 7)) (1.4.0)\n",
      "Requirement already satisfied: async-timeout<5.0,>=4.0.0a3 in /home/coco/anaconda3/lib/python3.9/site-packages (from aiohttp~=3.8.4->-r requirements.txt (line 7)) (4.0.3)\n",
      "Requirement already satisfied: h11>=0.8 in /home/coco/anaconda3/lib/python3.9/site-packages (from uvicorn~=0.22.0->-r requirements.txt (line 8)) (0.14.0)\n",
      "Requirement already satisfied: click>=7.0 in /home/coco/anaconda3/lib/python3.9/site-packages (from uvicorn~=0.22.0->-r requirements.txt (line 8)) (8.0.4)\n",
      "Requirement already satisfied: starlette<0.28.0,>=0.27.0 in /home/coco/anaconda3/lib/python3.9/site-packages (from fastapi~=0.101.1->-r requirements.txt (line 9)) (0.27.0)\n",
      "Requirement already satisfied: rdflib>=6.1.1 in /home/coco/anaconda3/lib/python3.9/site-packages (from SPARQLWrapper->-r requirements.txt (line 13)) (7.0.0)\n",
      "Requirement already satisfied: distro<2,>=1.7.0 in /home/coco/anaconda3/lib/python3.9/site-packages (from anthropic~=0.4.1->-r requirements.txt (line 15)) (1.9.0)\n",
      "Requirement already satisfied: tokenizers>=0.13.0 in /home/coco/anaconda3/lib/python3.9/site-packages (from anthropic~=0.4.1->-r requirements.txt (line 15)) (0.14.1)\n",
      "Requirement already satisfied: httpx<1,>=0.23.0 in /home/coco/anaconda3/lib/python3.9/site-packages (from anthropic~=0.4.1->-r requirements.txt (line 15)) (0.27.0)\n",
      "Requirement already satisfied: anyio<4,>=3.5.0 in /home/coco/anaconda3/lib/python3.9/site-packages (from anthropic~=0.4.1->-r requirements.txt (line 15)) (3.5.0)\n",
      "Requirement already satisfied: nh3 in /home/coco/anaconda3/lib/python3.9/site-packages (from fschat~=0.2.31->-r requirements.txt (line 16)) (0.2.17)\n",
      "Requirement already satisfied: tiktoken in /home/coco/anaconda3/lib/python3.9/site-packages (from fschat~=0.2.31->-r requirements.txt (line 16)) (0.7.0)\n",
      "Requirement already satisfied: shortuuid in /home/coco/anaconda3/lib/python3.9/site-packages (from fschat~=0.2.31->-r requirements.txt (line 16)) (1.0.13)\n",
      "Requirement already satisfied: prompt-toolkit>=3.0.0 in /home/coco/anaconda3/lib/python3.9/site-packages (from fschat~=0.2.31->-r requirements.txt (line 16)) (3.0.20)\n",
      "Requirement already satisfied: rich>=10.0.0 in /home/coco/anaconda3/lib/python3.9/site-packages (from fschat~=0.2.31->-r requirements.txt (line 16)) (13.6.0)\n",
      "Requirement already satisfied: markdown2[all] in /home/coco/anaconda3/lib/python3.9/site-packages (from fschat~=0.2.31->-r requirements.txt (line 16)) (2.4.13)\n",
      "Requirement already satisfied: torch>=1.10.0 in /home/coco/anaconda3/lib/python3.9/site-packages (from accelerate~=0.23.0->-r requirements.txt (line 17)) (2.1.0)\n",
      "Requirement already satisfied: huggingface-hub in /home/coco/anaconda3/lib/python3.9/site-packages (from accelerate~=0.23.0->-r requirements.txt (line 17)) (0.17.3)\n",
      "Requirement already satisfied: psutil in /home/coco/anaconda3/lib/python3.9/site-packages (from accelerate~=0.23.0->-r requirements.txt (line 17)) (5.9.0)\n",
      "Requirement already satisfied: safetensors>=0.3.1 in /home/coco/anaconda3/lib/python3.9/site-packages (from transformers~=4.34.0->-r requirements.txt (line 18)) (0.4.0)\n",
      "Requirement already satisfied: filelock in /home/coco/anaconda3/lib/python3.9/site-packages (from transformers~=4.34.0->-r requirements.txt (line 18)) (3.6.0)\n",
      "Requirement already satisfied: regex!=2019.12.17 in /home/coco/anaconda3/lib/python3.9/site-packages (from transformers~=4.34.0->-r requirements.txt (line 18)) (2022.7.9)\n",
      "Requirement already satisfied: sniffio>=1.1 in /home/coco/anaconda3/lib/python3.9/site-packages (from anyio<4,>=3.5.0->anthropic~=0.4.1->-r requirements.txt (line 15)) (1.2.0)\n",
      "Requirement already satisfied: httpcore==1.* in /home/coco/anaconda3/lib/python3.9/site-packages (from httpx<1,>=0.23.0->anthropic~=0.4.1->-r requirements.txt (line 15)) (1.0.5)\n",
      "Requirement already satisfied: fsspec in /home/coco/anaconda3/lib/python3.9/site-packages (from huggingface-hub->accelerate~=0.23.0->-r requirements.txt (line 17)) (2023.6.0)\n",
      "Requirement already satisfied: pyparsing!=3.0.5,>=2.0.2 in /home/coco/anaconda3/lib/python3.9/site-packages (from packaging>=14.0->docker==6.1.2->-r requirements.txt (line 12)) (3.0.9)\n",
      "Requirement already satisfied: wcwidth in /home/coco/anaconda3/lib/python3.9/site-packages (from prompt-toolkit>=3.0.0->fschat~=0.2.31->-r requirements.txt (line 16)) (0.2.5)\n",
      "Requirement already satisfied: isodate<0.7.0,>=0.6.0 in /home/coco/anaconda3/lib/python3.9/site-packages (from rdflib>=6.1.1->SPARQLWrapper->-r requirements.txt (line 13)) (0.6.1)\n",
      "Requirement already satisfied: markdown-it-py>=2.2.0 in /home/coco/anaconda3/lib/python3.9/site-packages (from rich>=10.0.0->fschat~=0.2.31->-r requirements.txt (line 16)) (3.0.0)\n",
      "Requirement already satisfied: pygments<3.0.0,>=2.13.0 in /home/coco/anaconda3/lib/python3.9/site-packages (from rich>=10.0.0->fschat~=0.2.31->-r requirements.txt (line 16)) (2.16.1)\n",
      "Requirement already satisfied: nvidia-cublas-cu12==12.1.3.1 in /home/coco/anaconda3/lib/python3.9/site-packages (from torch>=1.10.0->accelerate~=0.23.0->-r requirements.txt (line 17)) (12.1.3.1)\n",
      "Requirement already satisfied: nvidia-cusparse-cu12==12.1.0.106 in /home/coco/anaconda3/lib/python3.9/site-packages (from torch>=1.10.0->accelerate~=0.23.0->-r requirements.txt (line 17)) (12.1.0.106)\n",
      "Requirement already satisfied: nvidia-cufft-cu12==11.0.2.54 in /home/coco/anaconda3/lib/python3.9/site-packages (from torch>=1.10.0->accelerate~=0.23.0->-r requirements.txt (line 17)) (11.0.2.54)\n",
      "Requirement already satisfied: nvidia-cuda-runtime-cu12==12.1.105 in /home/coco/anaconda3/lib/python3.9/site-packages (from torch>=1.10.0->accelerate~=0.23.0->-r requirements.txt (line 17)) (12.1.105)\n",
      "Requirement already satisfied: triton==2.1.0 in /home/coco/anaconda3/lib/python3.9/site-packages (from torch>=1.10.0->accelerate~=0.23.0->-r requirements.txt (line 17)) (2.1.0)\n",
      "Requirement already satisfied: nvidia-nvtx-cu12==12.1.105 in /home/coco/anaconda3/lib/python3.9/site-packages (from torch>=1.10.0->accelerate~=0.23.0->-r requirements.txt (line 17)) (12.1.105)\n",
      "Requirement already satisfied: nvidia-nccl-cu12==2.18.1 in /home/coco/anaconda3/lib/python3.9/site-packages (from torch>=1.10.0->accelerate~=0.23.0->-r requirements.txt (line 17)) (2.18.1)\n",
      "Requirement already satisfied: jinja2 in /home/coco/anaconda3/lib/python3.9/site-packages (from torch>=1.10.0->accelerate~=0.23.0->-r requirements.txt (line 17)) (2.11.3)\n",
      "Requirement already satisfied: nvidia-cuda-nvrtc-cu12==12.1.105 in /home/coco/anaconda3/lib/python3.9/site-packages (from torch>=1.10.0->accelerate~=0.23.0->-r requirements.txt (line 17)) (12.1.105)\n",
      "Requirement already satisfied: nvidia-cudnn-cu12==8.9.2.26 in /home/coco/anaconda3/lib/python3.9/site-packages (from torch>=1.10.0->accelerate~=0.23.0->-r requirements.txt (line 17)) (8.9.2.26)\n",
      "Requirement already satisfied: nvidia-curand-cu12==10.3.2.106 in /home/coco/anaconda3/lib/python3.9/site-packages (from torch>=1.10.0->accelerate~=0.23.0->-r requirements.txt (line 17)) (10.3.2.106)\n",
      "Requirement already satisfied: nvidia-cusolver-cu12==11.4.5.107 in /home/coco/anaconda3/lib/python3.9/site-packages (from torch>=1.10.0->accelerate~=0.23.0->-r requirements.txt (line 17)) (11.4.5.107)\n",
      "Requirement already satisfied: nvidia-cuda-cupti-cu12==12.1.105 in /home/coco/anaconda3/lib/python3.9/site-packages (from torch>=1.10.0->accelerate~=0.23.0->-r requirements.txt (line 17)) (12.1.105)\n",
      "Requirement already satisfied: sympy in /home/coco/anaconda3/lib/python3.9/site-packages (from torch>=1.10.0->accelerate~=0.23.0->-r requirements.txt (line 17)) (1.10.1)\n",
      "Requirement already satisfied: nvidia-nvjitlink-cu12 in /home/coco/anaconda3/lib/python3.9/site-packages (from nvidia-cusolver-cu12==11.4.5.107->torch>=1.10.0->accelerate~=0.23.0->-r requirements.txt (line 17)) (12.2.140)\n",
      "Requirement already satisfied: six in /home/coco/anaconda3/lib/python3.9/site-packages (from websocket-client>=0.32.0->docker==6.1.2->-r requirements.txt (line 12)) (1.16.0)\n",
      "Requirement already satisfied: wavedrom in /home/coco/anaconda3/lib/python3.9/site-packages (from markdown2[all]->fschat~=0.2.31->-r requirements.txt (line 16)) (2.0.3.post3)\n",
      "Requirement already satisfied: mdurl~=0.1 in /home/coco/anaconda3/lib/python3.9/site-packages (from markdown-it-py>=2.2.0->rich>=10.0.0->fschat~=0.2.31->-r requirements.txt (line 16)) (0.1.2)\n",
      "Requirement already satisfied: MarkupSafe>=0.23 in /home/coco/anaconda3/lib/python3.9/site-packages (from jinja2->torch>=1.10.0->accelerate~=0.23.0->-r requirements.txt (line 17)) (2.0.1)\n",
      "Requirement already satisfied: mpmath>=0.19 in /home/coco/anaconda3/lib/python3.9/site-packages (from sympy->torch>=1.10.0->accelerate~=0.23.0->-r requirements.txt (line 17)) (1.2.1)\n",
      "Requirement already satisfied: svgwrite in /home/coco/anaconda3/lib/python3.9/site-packages (from wavedrom->markdown2[all]->fschat~=0.2.31->-r requirements.txt (line 16)) (1.4.3)\n",
      "Note: you may need to restart the kernel to use updated packages.\n"
     ]
    }
   ],
   "source": [
    "# create conda env and install package\n",
    "%pip install -r requirements.txt"
   ]
  },
  {
   "cell_type": "code",
   "execution_count": 2,
   "metadata": {},
   "outputs": [
    {
     "name": "stdout",
     "output_type": "stream",
     "text": [
      "Using default tag: latest\n",
      "latest: Pulling from library/mysql\n",
      "Digest: sha256:4a4e5e2a19aab7a67870588952e8f401e17a330466ecfc55c9acf51196da5bd0\n",
      "Status: Image is up to date for mysql:latest\n",
      "docker.io/library/mysql:latest\n",
      "Using default tag: latest\n",
      "latest: Pulling from library/ubuntu\n",
      "Digest: sha256:3f85b7caad41a95462cf5b787d8a04604c8262cdcdf9a472b8c52ef83375fe15\n",
      "Status: Image is up to date for ubuntu:latest\n",
      "docker.io/library/ubuntu:latest\n",
      "\u001b[1A\u001b[1B\u001b[0G\u001b[?25l[+] Building 0.0s (0/0)  docker:default\n",
      "\u001b[?25h\u001b[1A\u001b[0G\u001b[?25l[+] Building 0.0s (0/1)                                          docker:default\n",
      "\u001b[?25h\u001b[1A\u001b[0G\u001b[?25l[+] Building 0.1s (6/6) FINISHED                                 docker:default\n",
      "\u001b[34m => [internal] load build definition from default                          0.0s\n",
      "\u001b[0m\u001b[34m => => transferring dockerfile: 291B                                       0.0s\n",
      "\u001b[0m\u001b[34m => [internal] load metadata for docker.io/library/ubuntu:latest           0.0s\n",
      "\u001b[0m\u001b[34m => [internal] load .dockerignore                                          0.0s\n",
      "\u001b[0m\u001b[34m => => transferring context: 2B                                            0.0s\n",
      "\u001b[0m\u001b[34m => [1/2] FROM docker.io/library/ubuntu:latest                             0.0s\n",
      "\u001b[0m\u001b[34m => CACHED [2/2] RUN apt update && apt install python3 -y && apt install   0.0s\n",
      "\u001b[0m\u001b[34m => exporting to image                                                     0.0s\n",
      "\u001b[0m\u001b[34m => => exporting layers                                                    0.0s\n",
      "\u001b[0m\u001b[34m => => writing image sha256:45e9fdbc90061169c1dcc33f1f6b389e0d67a51f53d68  0.0s\n",
      "\u001b[0m\u001b[34m => => naming to docker.io/local-os/default                                0.0s\n",
      "\u001b[0m\u001b[?25h\u001b[1A\u001b[1B\u001b[0G\u001b[?25l[+] Building 0.0s (0/0)  docker:default\n",
      "\u001b[?25h\u001b[1A\u001b[0G\u001b[?25l[+] Building 0.0s (0/1)                                          docker:default\n",
      "\u001b[?25h\u001b[1A\u001b[0G\u001b[?25l[+] Building 0.1s (6/6) FINISHED                                 docker:default\n",
      "\u001b[34m => [internal] load build definition from packages                         0.0s\n",
      "\u001b[0m\u001b[34m => => transferring dockerfile: 314B                                       0.0s\n",
      "\u001b[0m\u001b[34m => [internal] load metadata for docker.io/library/ubuntu:latest           0.0s\n",
      "\u001b[0m\u001b[34m => [internal] load .dockerignore                                          0.0s\n",
      "\u001b[0m\u001b[34m => => transferring context: 2B                                            0.0s\n",
      "\u001b[0m\u001b[34m => [1/2] FROM docker.io/library/ubuntu:latest                             0.0s\n",
      "\u001b[0m\u001b[34m => CACHED [2/2] RUN apt update && apt install python3 -y && apt install   0.0s\n",
      "\u001b[0m\u001b[34m => exporting to image                                                     0.0s\n",
      "\u001b[0m\u001b[34m => => exporting layers                                                    0.0s\n",
      "\u001b[0m\u001b[34m => => writing image sha256:fbfddec801e80aa934f6c8c64280cf6183e95c4f48efc  0.0s\n",
      "\u001b[0m\u001b[34m => => naming to docker.io/local-os/packages                               0.0s\n",
      "\u001b[0m\u001b[?25h\u001b[1A\u001b[1B\u001b[0G\u001b[?25l[+] Building 0.0s (0/0)  docker:default\n",
      "\u001b[?25h\u001b[1A\u001b[0G\u001b[?25l[+] Building 0.0s (0/1)                                          docker:default\n",
      "\u001b[?25h\u001b[1A\u001b[0G\u001b[?25l[+] Building 0.1s (6/6) FINISHED                                 docker:default\n",
      "\u001b[34m => [internal] load build definition from ubuntu                           0.0s\n",
      "\u001b[0m\u001b[34m => => transferring dockerfile: 83B                                        0.0s\n",
      "\u001b[0m\u001b[34m => [internal] load metadata for docker.io/library/ubuntu:latest           0.0s\n",
      "\u001b[0m\u001b[34m => [internal] load .dockerignore                                          0.0s\n",
      "\u001b[0m\u001b[34m => => transferring context: 2B                                            0.0s\n",
      "\u001b[0m\u001b[34m => [1/2] FROM docker.io/library/ubuntu:latest                             0.0s\n",
      "\u001b[0m\u001b[34m => CACHED [2/2] RUN echo \"tmp\" > file.txt                                 0.0s\n",
      "\u001b[0m\u001b[34m => exporting to image                                                     0.0s\n",
      "\u001b[0m\u001b[34m => => exporting layers                                                    0.0s\n",
      "\u001b[0m\u001b[34m => => writing image sha256:d091b30a611901beed376ca25a1719d9841ea906dc3ae  0.0s\n",
      "\u001b[0m\u001b[34m => => naming to docker.io/local-os/ubuntu                                 0.0s\n",
      "\u001b[0m\u001b[?25h"
     ]
    }
   ],
   "source": [
    "# build docker images for the os task\n",
    "!docker pull mysql\n",
    "!docker pull ubuntu\n",
    "!docker build -f data/os_interaction/res/dockerfiles/default data/os_interaction/res/dockerfiles --tag local-os/default\n",
    "!docker build -f data/os_interaction/res/dockerfiles/packages data/os_interaction/res/dockerfiles --tag local-os/packages\n",
    "!docker build -f data/os_interaction/res/dockerfiles/ubuntu data/os_interaction/res/dockerfiles --tag local-os/ubuntu"
   ]
  },
  {
   "cell_type": "markdown",
   "metadata": {},
   "source": [
    "### 2. Set API Key\n",
    "Add your OpenAI API key to the confis/agents/openai-chat.yaml file. The line should read \n",
    "`Authorization: Bearer YOUR_KEY_HERE`."
   ]
  },
  {
   "cell_type": "markdown",
   "metadata": {},
   "source": [
    "### 3. Start task server\n",
    "This step needs to be done in a _separate_ terminal window. Open a terminal, navigate to the repo directory and run \n",
    "\n",
    "`python -m src.start_task --auto-controller --start os-std 2`\n",
    "\n",
    "Note: leave the terminal open."
   ]
  },
  {
   "cell_type": "markdown",
   "metadata": {},
   "source": [
    "### 4. Create assigner config file"
   ]
  },
  {
   "cell_type": "code",
   "execution_count": 16,
   "metadata": {},
   "outputs": [],
   "source": [
    "import yaml\n",
    "\n",
    "cfg = {\n",
    "    \"import\": \"definition.yaml\",\n",
    "    \"concurrency\": \n",
    "        {\n",
    "        \"task\": {\"os-std\": 5},\n",
    "        \"agent\": {\"gpt-4-0613\": 5}\n",
    "        },\n",
    "    \"assignments\": \n",
    "        [{\"agent\": \"gpt-4-0613\",\n",
    "        \"task\": \"os-std\"\n",
    "        }],\n",
    "    \"output\": \"outputs/{TIMESTAMP}\" \n",
    "    \n",
    "}\n",
    "\n",
    "with open('./configs/assignments/custom.yaml', 'w') as outfile:\n",
    "    yaml.dump(cfg, outfile, default_flow_style=False, sort_keys=False)"
   ]
  },
  {
   "cell_type": "markdown",
   "metadata": {},
   "source": [
    "### 4. Start assigner\n",
    "Once you have the task server running, you can start an assigner which coordinates tasks and agents:"
   ]
  },
  {
   "cell_type": "code",
   "execution_count": 18,
   "metadata": {},
   "outputs": [
    {
     "name": "stdout",
     "output_type": "stream",
     "text": [
      "/home/coco/anaconda3/lib/python3.9/site-packages/torch/cuda/__init__.py:611: UserWarning: Can't initialize NVML\n",
      "  warnings.warn(\"Can't initialize NVML\")\n",
      "\u001b[93mWarning: 7 agent(s) and 17 task(s) are defined but not used, they will be ignored.\u001b[0m\n",
      "\u001b[93m    Agent: {'text-davinci-002', 'text-davinci-003', 'vicuna-13b', 'vicuna-7b', 'vicuna-33b', 'wizard-30b', 'gpt-3.5-turbo-0613'}\u001b[0m\n",
      "\u001b[93m    Task: {'avalon-dev-naive', 'kg-std', 'alfworld-dev', 'dbbench-std', 'kg-dev', 'avalon-dev-single', 'webshop-dev', 'm2w-std', 'cg-std', 'ltp-std', 'webshop-std', 'ltp-dev', 'cg-dev', 'os-dev', 'dbbench-dev', 'm2w-dev', 'alfworld-std'}\u001b[0m\n",
      "\u001b[92mcreating os-std client...\u001b[0m\n",
      "TaskClient created: os-std (http://localhost:5000/api)\n",
      "\u001b[96mMessage: 144 samples remaining.\u001b[0m\n",
      "\u001b[96mAgent \"gpt-4-0613\" needs to run 1 tasks with total 144 samples:\u001b[0m\n",
      "\u001b[96m    Task \"os-std\": 144\u001b[0m\n",
      "Total:   0%|                                            | 0/144 [00:00<?, ?it/s]\n",
      "                                                                                \u001b[A\n",
      "\u001b[ARunning Count: 0                                                             \n",
      "Total:   0%|                                            | 0/144 [00:00<?, ?it/s]\n",
      "                                                                                \u001b[A\n",
      "\u001b[A\u001b[92mAssigned gpt-4-0613/os-std#std-007-bootstrap-00087\u001b[0m                  \n",
      "Total:   0%|                                            | 0/144 [00:00<?, ?it/s]\n",
      "                                                                                \u001b[A\n",
      "\u001b[A\u001b[92mAssigned gpt-4-0613/os-std#std-007-bootstrap-00086\u001b[0m                  \n",
      "Total:   0%|                                            | 0/144 [00:00<?, ?it/s]\n",
      "                                                                                \u001b[A\n",
      "\u001b[A\u001b[92mAssigned gpt-4-0613/os-std#std-007-bootstrap-00085\u001b[0m                  \n",
      "Total:   0%|                                            | 0/144 [00:00<?, ?it/s]\n",
      "                                                                                \u001b[A\n",
      "\u001b[A\u001b[92mAssigned gpt-4-0613/os-std#std-007-bootstrap-00084\u001b[0m                  \n",
      "Total:   0%|                                            | 0/144 [00:00<?, ?it/s]\n",
      "                                                                                \u001b[A\n",
      "\u001b[A\u001b[92mAssigned gpt-4-0613/os-std#std-007-bootstrap-00083\u001b[0m                  \n",
      "Total:   0%|                                            | 0/144 [00:00<?, ?it/s]\n",
      "                                                                                \u001b[A\n",
      "\u001b[ARunning Count: 5                                                             \n",
      "Total:   0%|                                            | 0/144 [00:09<?, ?it/s]\n",
      "Total:   1%|▎                                   | 1/144 [00:20<48:20, 20.28s/it]\u001b[A\n",
      "                                                                                \u001b[A\n",
      "\u001b[ARunning Count: 4                                                             \n",
      "Total:   1%|▎                                   | 1/144 [00:21<48:20, 20.28s/it]\n",
      "                                                                                \u001b[A\n",
      "\u001b[A\u001b[92mAssigned gpt-4-0613/os-std#std-007-bootstrap-00082\u001b[0m                  \n",
      "Total:   1%|▎                                   | 1/144 [00:21<48:20, 20.28s/it]\n",
      "gpt-4-0613:   1%|▏                              | 1/144 [00:21<48:20, 20.28s/it]\u001b[A^C\n",
      "                                                                                \n",
      "Total:   1%|▎                                   | 1/144 [00:22<48:20, 20.28s/it]\n",
      "gpt-4-0613:   1%|▏                              | 1/144 [00:22<48:20, 20.28s/it]\u001b[ATraceback (most recent call last):\n",
      "  File \"/home/coco/anaconda3/lib/python3.9/runpy.py\", line 197, in _run_module_as_main\n",
      "    return _run_code(code, main_globals, None,\n",
      "  File \"/home/coco/anaconda3/lib/python3.9/runpy.py\", line 87, in _run_code\n",
      "    exec(code, run_globals)\n",
      "  File \"/home/coco/git/agentbench/src/assigner.py\", line 425, in <module>\n",
      "    Assigner(value, args.retry).start(tqdm_out=orig_stdout)\n",
      "  File \"/home/coco/git/agentbench/src/assigner.py\", line 267, in start\n",
      "    agent, task, index = next(generator)\n",
      "  File \"/home/coco/git/agentbench/src/assigner.py\", line 236, in worker_generator\n",
      "    time.sleep(interval / 2 + random.random() * interval)\n",
      "KeyboardInterrupt\n"
     ]
    }
   ],
   "source": [
    "!python -m src.assigner --config configs/assignments/custom.yaml"
   ]
  },
  {
   "cell_type": "markdown",
   "metadata": {},
   "source": [
    "- function to prog create the tasks with some params \n",
    "- pushing (non-working) code to a e.g dev branch\n"
   ]
  }
 ],
 "metadata": {
  "kernelspec": {
   "display_name": "Python 3",
   "language": "python",
   "name": "python3"
  },
  "language_info": {
   "codemirror_mode": {
    "name": "ipython",
    "version": 3
   },
   "file_extension": ".py",
   "mimetype": "text/x-python",
   "name": "python",
   "nbconvert_exporter": "python",
   "pygments_lexer": "ipython3",
   "version": "3.9.13"
  }
 },
 "nbformat": 4,
 "nbformat_minor": 2
}
